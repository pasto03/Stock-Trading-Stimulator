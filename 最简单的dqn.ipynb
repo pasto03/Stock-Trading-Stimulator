{
 "cells": [
  {
   "cell_type": "markdown",
   "id": "1d758428",
   "metadata": {},
   "source": [
    "### 设置环境类 -- AlwaysForwardEnv\n",
    "我们希望它永远向前，但我们有向前和退后两个操作"
   ]
  },
  {
   "cell_type": "code",
   "execution_count": 287,
   "id": "480f21a0",
   "metadata": {},
   "outputs": [],
   "source": [
    "\"\"\"\n",
    "0 是往前，1是退后\n",
    "\"\"\"\n",
    "class AlwaysForwardEnv:\n",
    "    def __init__(self, length):\n",
    "        self.length = length\n",
    "        self.position = 0\n",
    "        \n",
    "        self.action_dim = 2\n",
    "        self.state_dim = 1\n",
    "    \n",
    "    def reset(self):\n",
    "        self.position = 0\n",
    "        return self.position\n",
    "    \n",
    "    def step(self, action):\n",
    "        if action == 0:\n",
    "            self.position += 1\n",
    "            reward = 1\n",
    "        elif action == 1:\n",
    "            self.position -= 1\n",
    "            reward = 0\n",
    "        else:\n",
    "            raise ValueError(\"Invalid action\")\n",
    "            \n",
    "        done = self.position >= self.length\n",
    "        return self.position, reward, done, {}"
   ]
  },
  {
   "cell_type": "code",
   "execution_count": 281,
   "id": "0a722f37",
   "metadata": {},
   "outputs": [],
   "source": [
    "import numpy as np\n",
    "import matplotlib.pyplot as plt\n",
    "%matplotlib inline"
   ]
  },
  {
   "cell_type": "code",
   "execution_count": 282,
   "id": "64369925",
   "metadata": {},
   "outputs": [],
   "source": [
    "_env = AlwaysForwardEnv(10)\n",
    "init_pos = _env.position\n",
    "pos_records = []\n",
    "action_records = []\n",
    "reward_records = []\n",
    "\n",
    "# 使用一个loop进行随机模拟\n",
    "done = None\n",
    "for i in range(100):\n",
    "    if done:\n",
    "        print(f'Completed in {i+1} steps.')\n",
    "        break\n",
    "    # choose random action\n",
    "    current_action = np.random.randint(0, _env.action_dim)\n",
    "    \n",
    "    current_pos, reward, done, _ = _env.step(current_action)\n",
    "    \n",
    "    pos_records.append(current_pos)\n",
    "    action_records.append(current_action)\n",
    "    reward_records.append(reward)"
   ]
  },
  {
   "cell_type": "code",
   "execution_count": 359,
   "id": "5337a84e",
   "metadata": {},
   "outputs": [],
   "source": [
    "def softmax(x):\n",
    "    return np.exp(x) / np.sum(np.exp(x))"
   ]
  },
  {
   "cell_type": "code",
   "execution_count": 360,
   "id": "e9e119ac",
   "metadata": {},
   "outputs": [
    {
     "data": {
      "text/plain": [
       "array([[0.01303363, 0.1433465 , 0.26541862, 0.1208436 , 0.02282404,\n",
       "        0.13699106, 0.03514259, 0.13670107, 0.06167769, 0.06402119]])"
      ]
     },
     "execution_count": 360,
     "metadata": {},
     "output_type": "execute_result"
    }
   ],
   "source": [
    "softmax([np.random.randn(10)])"
   ]
  },
  {
   "cell_type": "code",
   "execution_count": 336,
   "id": "43cc80dc",
   "metadata": {},
   "outputs": [
    {
     "name": "stdout",
     "output_type": "stream",
     "text": [
      "Completed in 13 steps.\n"
     ]
    }
   ],
   "source": [
    "_env = AlwaysForwardEnv(10)\n",
    "init_pos = _env.position\n",
    "pos_records = []\n",
    "action_records = []\n",
    "reward_records = []\n",
    "probs_records = []\n",
    "\n",
    "# 初始化action概率分布\n",
    "action_probs = np.ones(_env.action_dim) / _env.action_dim\n",
    "alpha = 1\n",
    "\n",
    "# 对以上代码的随机模拟部分进行改变，使其能够实现最基本的”学习“\n",
    "done = None\n",
    "\n",
    "for i in range(100):\n",
    "    if done:\n",
    "        print(f'Completed in {i+1} steps.')\n",
    "        break\n",
    "    # choose random action(with biased probs)\n",
    "    current_action = np.random.choice(_env.action_dim, p=action_probs)\n",
    "    \n",
    "    current_pos, reward, done, _ = _env.step(current_action)\n",
    "\n",
    "    # 根据reward值调整概率分布\n",
    "    action_probs[current_action] = action_probs[current_action] + alpha * (reward - action_probs[current_action])\n",
    "    action_probs = softmax(action_probs)\n",
    "    \n",
    "    pos_records.append(current_pos)\n",
    "    action_records.append(current_action)\n",
    "    reward_records.append(reward)\n",
    "    probs_records.append(action_probs)"
   ]
  },
  {
   "cell_type": "code",
   "execution_count": 338,
   "id": "5ad6f3b1",
   "metadata": {
    "collapsed": true
   },
   "outputs": [
    {
     "data": {
      "text/plain": [
       "[array([1.        , 0.37754067]),\n",
       " array([1.        , 0.34922232]),\n",
       " array([1.        , 0.34281431]),\n",
       " array([1.        , 0.34137209]),\n",
       " array([1.       , 0.3410479]),\n",
       " array([1.        , 0.34097505]),\n",
       " array([1.        , 0.34095868]),\n",
       " array([0.659045, 0.      ]),\n",
       " array([1.        , 0.34095417]),\n",
       " array([1.        , 0.34095399]),\n",
       " array([1.        , 0.34095394]),\n",
       " array([0.65904607, 0.34095393])]"
      ]
     },
     "execution_count": 338,
     "metadata": {},
     "output_type": "execute_result"
    }
   ],
   "source": [
    "probs_records"
   ]
  },
  {
   "cell_type": "code",
   "execution_count": 337,
   "id": "e481b1fd",
   "metadata": {},
   "outputs": [
    {
     "data": {
      "image/png": "[encoded data removed]",
      "text/plain": [
       "<Figure size 1080x432 with 3 Axes>"
      ]
     },
     "metadata": {
      "needs_background": "light"
     },
     "output_type": "display_data"
    }
   ],
   "source": [
    "# 可视化结果\n",
    "plt.figure(figsize=(15, 6))\n",
    "\n",
    "plt.subplot(3, 1, 1)\n",
    "plt.plot(pos_records)\n",
    "plt.title('Position records')\n",
    "\n",
    "plt.subplot(3, 1, 2)\n",
    "plt.scatter(range(len(action_records)), action_records)\n",
    "plt.title('Action records')\n",
    "\n",
    "plt.subplot(3, 1, 3)\n",
    "plt.scatter(range(len(reward_records)), reward_records)\n",
    "plt.title('Reward records')\n",
    "\n",
    "plt.show()"
   ]
  },
  {
   "cell_type": "markdown",
   "id": "35bf1f45",
   "metadata": {},
   "source": [
    "### 设置DQN神经网络和DQN算法类"
   ]
  },
  {
   "cell_type": "code",
   "execution_count": 2,
   "id": "45e6bd67",
   "metadata": {},
   "outputs": [],
   "source": [
    "import numpy as np\n",
    "import pandas as pd\n",
    "import matplotlib.pyplot as plt\n",
    "import random\n",
    "import torch\n",
    "import torch.nn as nn\n",
    "import torch.optim as optim"
   ]
  },
  {
   "cell_type": "code",
   "execution_count": 297,
   "id": "ca347798",
   "metadata": {},
   "outputs": [],
   "source": [
    "# 定义神经网络模型\n",
    "\"\"\"\n",
    "input dim: [..., state_dim]\n",
    "output dim: [..., action_dim]\n",
    "\"\"\"\n",
    "class DQN(nn.Module):\n",
    "    def __init__(self, state_dim, action_dim):\n",
    "        super(DQN, self).__init__()\n",
    "        self.fc1 = nn.Linear(state_dim, 64)\n",
    "        self.fc2 = nn.Linear(64, 64)\n",
    "        self.fc3 = nn.Linear(64, action_dim)\n",
    "\n",
    "    def forward(self, x):\n",
    "        x = torch.relu(self.fc1(x))\n",
    "        x = torch.relu(self.fc2(x))\n",
    "        x = self.fc3(x)\n",
    "        return x"
   ]
  },
  {
   "cell_type": "code",
   "execution_count": 298,
   "id": "8691d194",
   "metadata": {},
   "outputs": [
    {
     "data": {
      "text/plain": [
       "tensor([ 0.0972, -0.0924], grad_fn=<AddBackward0>)"
      ]
     },
     "execution_count": 298,
     "metadata": {},
     "output_type": "execute_result"
    }
   ],
   "source": [
    "_dqn = DQN(1, 2)\n",
    "_dqn(torch.tensor([0.]))"
   ]
  },
  {
   "cell_type": "code",
   "execution_count": 327,
   "id": "1c94e9f9",
   "metadata": {},
   "outputs": [],
   "source": [
    "# 定义DQN算法类\n",
    "class DQNAgent:\n",
    "    def __init__(self, state_dim, action_dim, gamma=0.99, lr=0.001, epsilon=1.0, epsilon_min=0.01, epsilon_decay=0.99):\n",
    "        self.state_dim = state_dim\n",
    "        self.action_dim = action_dim\n",
    "        self.gamma = gamma\n",
    "        self.epsilon = epsilon\n",
    "        self.epsilon_min = epsilon_min\n",
    "        self.epsilon_decay = epsilon_decay\n",
    "        self.device = torch.device(\"cuda\" if torch.cuda.is_available() else \"cpu\")\n",
    "        self.model = DQN(state_dim, action_dim).to(self.device)\n",
    "        self.optimizer = optim.Adam(self.model.parameters(), lr=lr)\n",
    "        self.loss_fn = nn.MSELoss()\n",
    "\n",
    "    def act(self, state):\n",
    "        if np.random.rand() <= self.epsilon:\n",
    "            return np.random.randint(self.action_dim)\n",
    "        state = torch.tensor(state, dtype=torch.float32).to(self.device)\n",
    "        state = state.unsqueeze(0)\n",
    "        q_values = self.model(state)\n",
    "        return torch.argmax(q_values).item()\n",
    "\n",
    "    def replay(self, memory, batch_size):\n",
    "        if len(memory) < batch_size:\n",
    "            return\n",
    "        batch = random.sample(memory, batch_size)\n",
    "        states, actions, rewards, next_states, dones = zip(*batch)\n",
    "        \n",
    "        states = torch.tensor(states, dtype=torch.float32).to(self.device).unsqueeze(0)   # [1, batch_size]\n",
    "        states = states.permute(1, 0)   # [batch_size, state_dim]\n",
    "        actions = torch.tensor(actions, dtype=torch.int64).to(self.device)\n",
    "        rewards = torch.tensor(rewards, dtype=torch.float32).to(self.device)\n",
    "        next_states = torch.tensor(next_states, dtype=torch.float32).to(self.device)\n",
    "        dones = torch.tensor(dones, dtype=torch.float32).to(self.device)\n",
    "        \n",
    "        q_values = self.model(states).gather(1, actions.unsqueeze(1)).squeeze(1)\n",
    "        next_q_values = self.model(next_states).max(1)[0]\n",
    "        expected_q_values = rewards + self.gamma * next_q_values * (1 - dones)\n",
    "        \n",
    "        loss = self.loss_fn(q_values, expected_q_values.detach())\n",
    "        self.optimizer.zero_grad()\n",
    "        loss.backward()\n",
    "        self.optimizer.step()\n",
    "\n",
    "    def update_epsilon(self):\n",
    "        self.epsilon = max(self.epsilon * self.epsilon_decay, self.epsilon_min)"
   ]
  },
  {
   "cell_type": "markdown",
   "id": "8071efa8",
   "metadata": {},
   "source": [
    "### 训练agent"
   ]
  },
  {
   "cell_type": "code",
   "execution_count": 21,
   "id": "27eee55f",
   "metadata": {},
   "outputs": [
    {
     "data": {
      "text/plain": [
       "0"
      ]
     },
     "execution_count": 21,
     "metadata": {},
     "output_type": "execute_result"
    }
   ],
   "source": [
    "env.reset()"
   ]
  },
  {
   "cell_type": "code",
   "execution_count": 308,
   "id": "583f7d5e",
   "metadata": {},
   "outputs": [
    {
     "name": "stdout",
     "output_type": "stream",
     "text": [
      "tensor([[0],\n",
      "        [1]])\n",
      "tensor([[1],\n",
      "        [5]])\n"
     ]
    }
   ],
   "source": [
    "_eg1 = torch.tensor([[1, 2, 3], [4, 5, 6]])\n",
    "_idx = torch.tensor([0, 1]).unsqueeze(1)\n",
    "print(_idx)\n",
    "print(torch.gather(_eg1, 1, _idx))"
   ]
  },
  {
   "cell_type": "code",
   "execution_count": 328,
   "id": "f7239292",
   "metadata": {},
   "outputs": [
    {
     "ename": "RuntimeError",
     "evalue": "mat1 and mat2 shapes cannot be multiplied (1x32 and 1x64)",
     "output_type": "error",
     "traceback": [
      "\u001b[1;31m---------------------------------------------------------------------------\u001b[0m",
      "\u001b[1;31mRuntimeError\u001b[0m                              Traceback (most recent call last)",
      "Input \u001b[1;32mIn [328]\u001b[0m, in \u001b[0;36m<cell line: 11>\u001b[1;34m()\u001b[0m\n\u001b[0;32m     26\u001b[0m state \u001b[38;5;241m=\u001b[39m next_state\n\u001b[0;32m     28\u001b[0m \u001b[38;5;66;03m# 从记忆池中随机抽取批次的经验，更新DQN网络参数\u001b[39;00m\n\u001b[1;32m---> 29\u001b[0m \u001b[43magent\u001b[49m\u001b[38;5;241;43m.\u001b[39;49m\u001b[43mreplay\u001b[49m\u001b[43m(\u001b[49m\u001b[43mmemory\u001b[49m\u001b[43m,\u001b[49m\u001b[43m \u001b[49m\u001b[43mbatch_size\u001b[49m\u001b[43m)\u001b[49m\n\u001b[0;32m     31\u001b[0m \u001b[38;5;66;03m# 更新epsilon值\u001b[39;00m\n\u001b[0;32m     32\u001b[0m agent\u001b[38;5;241m.\u001b[39mupdate_epsilon()\n",
      "Input \u001b[1;32mIn [327]\u001b[0m, in \u001b[0;36mDQNAgent.replay\u001b[1;34m(self, memory, batch_size)\u001b[0m\n\u001b[0;32m     34\u001b[0m dones \u001b[38;5;241m=\u001b[39m torch\u001b[38;5;241m.\u001b[39mtensor(dones, dtype\u001b[38;5;241m=\u001b[39mtorch\u001b[38;5;241m.\u001b[39mfloat32)\u001b[38;5;241m.\u001b[39mto(\u001b[38;5;28mself\u001b[39m\u001b[38;5;241m.\u001b[39mdevice)\n\u001b[0;32m     36\u001b[0m q_values \u001b[38;5;241m=\u001b[39m \u001b[38;5;28mself\u001b[39m\u001b[38;5;241m.\u001b[39mmodel(states)\u001b[38;5;241m.\u001b[39mgather(\u001b[38;5;241m1\u001b[39m, actions\u001b[38;5;241m.\u001b[39munsqueeze(\u001b[38;5;241m1\u001b[39m))\u001b[38;5;241m.\u001b[39msqueeze(\u001b[38;5;241m1\u001b[39m)\n\u001b[1;32m---> 37\u001b[0m next_q_values \u001b[38;5;241m=\u001b[39m \u001b[38;5;28;43mself\u001b[39;49m\u001b[38;5;241;43m.\u001b[39;49m\u001b[43mmodel\u001b[49m\u001b[43m(\u001b[49m\u001b[43mnext_states\u001b[49m\u001b[43m)\u001b[49m\u001b[38;5;241m.\u001b[39mmax(\u001b[38;5;241m1\u001b[39m)[\u001b[38;5;241m0\u001b[39m]\n\u001b[0;32m     38\u001b[0m expected_q_values \u001b[38;5;241m=\u001b[39m rewards \u001b[38;5;241m+\u001b[39m \u001b[38;5;28mself\u001b[39m\u001b[38;5;241m.\u001b[39mgamma \u001b[38;5;241m*\u001b[39m next_q_values \u001b[38;5;241m*\u001b[39m (\u001b[38;5;241m1\u001b[39m \u001b[38;5;241m-\u001b[39m dones)\n\u001b[0;32m     40\u001b[0m loss \u001b[38;5;241m=\u001b[39m \u001b[38;5;28mself\u001b[39m\u001b[38;5;241m.\u001b[39mloss_fn(q_values, expected_q_values\u001b[38;5;241m.\u001b[39mdetach())\n",
      "File \u001b[1;32m~\\AppData\\Local\\Programs\\Python\\Python310\\lib\\site-packages\\torch\\nn\\modules\\module.py:1501\u001b[0m, in \u001b[0;36mModule._call_impl\u001b[1;34m(self, *args, **kwargs)\u001b[0m\n\u001b[0;32m   1496\u001b[0m \u001b[38;5;66;03m# If we don't have any hooks, we want to skip the rest of the logic in\u001b[39;00m\n\u001b[0;32m   1497\u001b[0m \u001b[38;5;66;03m# this function, and just call forward.\u001b[39;00m\n\u001b[0;32m   1498\u001b[0m \u001b[38;5;28;01mif\u001b[39;00m \u001b[38;5;129;01mnot\u001b[39;00m (\u001b[38;5;28mself\u001b[39m\u001b[38;5;241m.\u001b[39m_backward_hooks \u001b[38;5;129;01mor\u001b[39;00m \u001b[38;5;28mself\u001b[39m\u001b[38;5;241m.\u001b[39m_backward_pre_hooks \u001b[38;5;129;01mor\u001b[39;00m \u001b[38;5;28mself\u001b[39m\u001b[38;5;241m.\u001b[39m_forward_hooks \u001b[38;5;129;01mor\u001b[39;00m \u001b[38;5;28mself\u001b[39m\u001b[38;5;241m.\u001b[39m_forward_pre_hooks\n\u001b[0;32m   1499\u001b[0m         \u001b[38;5;129;01mor\u001b[39;00m _global_backward_pre_hooks \u001b[38;5;129;01mor\u001b[39;00m _global_backward_hooks\n\u001b[0;32m   1500\u001b[0m         \u001b[38;5;129;01mor\u001b[39;00m _global_forward_hooks \u001b[38;5;129;01mor\u001b[39;00m _global_forward_pre_hooks):\n\u001b[1;32m-> 1501\u001b[0m     \u001b[38;5;28;01mreturn\u001b[39;00m forward_call(\u001b[38;5;241m*\u001b[39margs, \u001b[38;5;241m*\u001b[39m\u001b[38;5;241m*\u001b[39mkwargs)\n\u001b[0;32m   1502\u001b[0m \u001b[38;5;66;03m# Do not call functions when jit is used\u001b[39;00m\n\u001b[0;32m   1503\u001b[0m full_backward_hooks, non_full_backward_hooks \u001b[38;5;241m=\u001b[39m [], []\n",
      "Input \u001b[1;32mIn [297]\u001b[0m, in \u001b[0;36mDQN.forward\u001b[1;34m(self, x)\u001b[0m\n\u001b[0;32m     13\u001b[0m \u001b[38;5;28;01mdef\u001b[39;00m \u001b[38;5;21mforward\u001b[39m(\u001b[38;5;28mself\u001b[39m, x):\n\u001b[1;32m---> 14\u001b[0m     x \u001b[38;5;241m=\u001b[39m torch\u001b[38;5;241m.\u001b[39mrelu(\u001b[38;5;28;43mself\u001b[39;49m\u001b[38;5;241;43m.\u001b[39;49m\u001b[43mfc1\u001b[49m\u001b[43m(\u001b[49m\u001b[43mx\u001b[49m\u001b[43m)\u001b[49m)\n\u001b[0;32m     15\u001b[0m     x \u001b[38;5;241m=\u001b[39m torch\u001b[38;5;241m.\u001b[39mrelu(\u001b[38;5;28mself\u001b[39m\u001b[38;5;241m.\u001b[39mfc2(x))\n\u001b[0;32m     16\u001b[0m     x \u001b[38;5;241m=\u001b[39m \u001b[38;5;28mself\u001b[39m\u001b[38;5;241m.\u001b[39mfc3(x)\n",
      "File \u001b[1;32m~\\AppData\\Local\\Programs\\Python\\Python310\\lib\\site-packages\\torch\\nn\\modules\\module.py:1501\u001b[0m, in \u001b[0;36mModule._call_impl\u001b[1;34m(self, *args, **kwargs)\u001b[0m\n\u001b[0;32m   1496\u001b[0m \u001b[38;5;66;03m# If we don't have any hooks, we want to skip the rest of the logic in\u001b[39;00m\n\u001b[0;32m   1497\u001b[0m \u001b[38;5;66;03m# this function, and just call forward.\u001b[39;00m\n\u001b[0;32m   1498\u001b[0m \u001b[38;5;28;01mif\u001b[39;00m \u001b[38;5;129;01mnot\u001b[39;00m (\u001b[38;5;28mself\u001b[39m\u001b[38;5;241m.\u001b[39m_backward_hooks \u001b[38;5;129;01mor\u001b[39;00m \u001b[38;5;28mself\u001b[39m\u001b[38;5;241m.\u001b[39m_backward_pre_hooks \u001b[38;5;129;01mor\u001b[39;00m \u001b[38;5;28mself\u001b[39m\u001b[38;5;241m.\u001b[39m_forward_hooks \u001b[38;5;129;01mor\u001b[39;00m \u001b[38;5;28mself\u001b[39m\u001b[38;5;241m.\u001b[39m_forward_pre_hooks\n\u001b[0;32m   1499\u001b[0m         \u001b[38;5;129;01mor\u001b[39;00m _global_backward_pre_hooks \u001b[38;5;129;01mor\u001b[39;00m _global_backward_hooks\n\u001b[0;32m   1500\u001b[0m         \u001b[38;5;129;01mor\u001b[39;00m _global_forward_hooks \u001b[38;5;129;01mor\u001b[39;00m _global_forward_pre_hooks):\n\u001b[1;32m-> 1501\u001b[0m     \u001b[38;5;28;01mreturn\u001b[39;00m forward_call(\u001b[38;5;241m*\u001b[39margs, \u001b[38;5;241m*\u001b[39m\u001b[38;5;241m*\u001b[39mkwargs)\n\u001b[0;32m   1502\u001b[0m \u001b[38;5;66;03m# Do not call functions when jit is used\u001b[39;00m\n\u001b[0;32m   1503\u001b[0m full_backward_hooks, non_full_backward_hooks \u001b[38;5;241m=\u001b[39m [], []\n",
      "File \u001b[1;32m~\\AppData\\Local\\Programs\\Python\\Python310\\lib\\site-packages\\torch\\nn\\modules\\linear.py:114\u001b[0m, in \u001b[0;36mLinear.forward\u001b[1;34m(self, input)\u001b[0m\n\u001b[0;32m    113\u001b[0m \u001b[38;5;28;01mdef\u001b[39;00m \u001b[38;5;21mforward\u001b[39m(\u001b[38;5;28mself\u001b[39m, \u001b[38;5;28minput\u001b[39m: Tensor) \u001b[38;5;241m-\u001b[39m\u001b[38;5;241m>\u001b[39m Tensor:\n\u001b[1;32m--> 114\u001b[0m     \u001b[38;5;28;01mreturn\u001b[39;00m \u001b[43mF\u001b[49m\u001b[38;5;241;43m.\u001b[39;49m\u001b[43mlinear\u001b[49m\u001b[43m(\u001b[49m\u001b[38;5;28;43minput\u001b[39;49m\u001b[43m,\u001b[49m\u001b[43m \u001b[49m\u001b[38;5;28;43mself\u001b[39;49m\u001b[38;5;241;43m.\u001b[39;49m\u001b[43mweight\u001b[49m\u001b[43m,\u001b[49m\u001b[43m \u001b[49m\u001b[38;5;28;43mself\u001b[39;49m\u001b[38;5;241;43m.\u001b[39;49m\u001b[43mbias\u001b[49m\u001b[43m)\u001b[49m\n",
      "\u001b[1;31mRuntimeError\u001b[0m: mat1 and mat2 shapes cannot be multiplied (1x32 and 1x64)"
     ]
    }
   ],
   "source": [
    "# 初始化环境、智能体和记忆池\n",
    "env = AlwaysForwardEnv(length=10)\n",
    "state_dim = 1\n",
    "action_dim = 2\n",
    "agent = DQNAgent(state_dim, action_dim, epsilon=0.9)\n",
    "memory = []\n",
    "\n",
    "# 训练DQNAgent\n",
    "num_episodes = 1000\n",
    "batch_size = 32\n",
    "for i_episode in range(num_episodes):\n",
    "    state = env.reset()\n",
    "    done = False\n",
    "    while not done:\n",
    "        # 根据当前状态选择动作\n",
    "        action = agent.act(state)\n",
    "\n",
    "        # 在环境中执行动作，获取下一个状态、奖励和终止标志\n",
    "        next_state, reward, done, _ = env.step(action)\n",
    "        reward = torch.tensor([reward], dtype=torch.float32).to(agent.device)\n",
    "\n",
    "        # 将经验存储到记忆池中\n",
    "        memory.append((state, action, reward, next_state, done))\n",
    "\n",
    "        # 更新状态\n",
    "        state = next_state\n",
    "\n",
    "        # 从记忆池中随机抽取批次的经验，更新DQN网络参数\n",
    "        agent.replay(memory, batch_size)\n",
    "\n",
    "        # 更新epsilon值\n",
    "        agent.update_epsilon()\n",
    "\n",
    "    # 打印当前episode的总奖励和epsilon值\n",
    "    print(f\"Episode {i_episode+1}: Total Reward = {reward.sum().item():.3f}, Epsilon = {agent.epsilon:.3f}\")"
   ]
  },
  {
   "cell_type": "code",
   "execution_count": null,
   "id": "344077c9",
   "metadata": {},
   "outputs": [],
   "source": []
  },
  {
   "cell_type": "code",
   "execution_count": null,
   "id": "18e69e48",
   "metadata": {},
   "outputs": [],
   "source": []
  },
  {
   "cell_type": "code",
   "execution_count": null,
   "id": "c1caf935",
   "metadata": {},
   "outputs": [],
   "source": []
  },
  {
   "cell_type": "code",
   "execution_count": null,
   "id": "5136c4a6",
   "metadata": {},
   "outputs": [],
   "source": []
  },
  {
   "cell_type": "code",
   "execution_count": null,
   "id": "d04c05aa",
   "metadata": {},
   "outputs": [],
   "source": []
  },
  {
   "cell_type": "code",
   "execution_count": null,
   "id": "537f9d99",
   "metadata": {},
   "outputs": [],
   "source": []
  }
 ],
 "metadata": {
  "kernelspec": {
   "display_name": "Python 3 (ipykernel)",
   "language": "python",
   "name": "python3"
  },
  "language_info": {
   "codemirror_mode": {
    "name": "ipython",
    "version": 3
   },
   "file_extension": ".py",
   "mimetype": "text/x-python",
   "name": "python",
   "nbconvert_exporter": "python",
   "pygments_lexer": "ipython3",
   "version": "3.10.5"
  }
 },
 "nbformat": 4,
 "nbformat_minor": 5
}
